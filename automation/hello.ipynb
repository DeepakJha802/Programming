{
 "cells": [
  {
   "cell_type": "code",
   "execution_count": 1,
   "metadata": {},
   "outputs": [
    {
     "ename": "IndexError",
     "evalue": "list index out of range",
     "output_type": "error",
     "traceback": [
      "\u001b[1;31m---------------------------------------------------------------------------\u001b[0m",
      "\u001b[1;31mIndexError\u001b[0m                                Traceback (most recent call last)",
      "Cell \u001b[1;32mIn [1], line 9\u001b[0m\n\u001b[0;32m      7\u001b[0m \u001b[39mfor\u001b[39;00m i \u001b[39min\u001b[39;00m \u001b[39mrange\u001b[39m(\u001b[39m1\u001b[39m):\n\u001b[0;32m      8\u001b[0m     time\u001b[39m.\u001b[39msleep(\u001b[39m0\u001b[39m)\n\u001b[1;32m----> 9\u001b[0m     p\u001b[39m.\u001b[39mwrite(comment[r\u001b[39m.\u001b[39;49mrandint(\u001b[39m0\u001b[39;49m,\u001b[39m15\u001b[39;49m)])   \n",
      "\u001b[1;31mIndexError\u001b[0m: list index out of range"
     ]
    }
   ],
   "source": [
    "import pyautogui as p\n",
    "import time\n",
    "import random as r\n",
    "p.hotkey('alt','tab')\n",
    "p.write(' ',5)\n",
    "comment = [\"Our teachers are very good. They provide a quality education through online mood. They put a lot of effort to make the concept clear. Semester exams are not too hard but without study, you can't pass exams so the study is also very important.\"]\n",
    "for i in range(1):\n",
    "    time.sleep(0)\n",
    "    p.write(comment[r.randint(0,15)])   \n",
    " "
   ]
  }
 ],
 "metadata": {
  "kernelspec": {
   "display_name": "Python 3.9.13 64-bit",
   "language": "python",
   "name": "python3"
  },
  "language_info": {
   "codemirror_mode": {
    "name": "ipython",
    "version": 3
   },
   "file_extension": ".py",
   "mimetype": "text/x-python",
   "name": "python",
   "nbconvert_exporter": "python",
   "pygments_lexer": "ipython3",
   "version": "3.9.13 (tags/v3.9.13:6de2ca5, May 17 2022, 16:36:42) [MSC v.1929 64 bit (AMD64)]"
  },
  "orig_nbformat": 4,
  "vscode": {
   "interpreter": {
    "hash": "8c37bad4287cefdbc372156e4eb4338457f6f1def6da16ba53da703824a0a7eb"
   }
  }
 },
 "nbformat": 4,
 "nbformat_minor": 2
}
