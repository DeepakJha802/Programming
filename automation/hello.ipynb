{
 "cells": [
  {
   "cell_type": "code",
   "execution_count": 9,
   "metadata": {},
   "outputs": [
    {
     "ename": "KeyboardInterrupt",
     "evalue": "",
     "output_type": "error",
     "traceback": [
      "\u001b[1;31m---------------------------------------------------------------------------\u001b[0m",
      "\u001b[1;31mKeyboardInterrupt\u001b[0m                         Traceback (most recent call last)",
      "Cell \u001b[1;32mIn [9], line 8\u001b[0m\n\u001b[0;32m      6\u001b[0m comment \u001b[39m=\u001b[39m [\u001b[39m\"\u001b[39m\u001b[39mCONGRESS\u001b[39m\u001b[39m\"\u001b[39m,\u001b[39m\"\u001b[39m\u001b[39mCONGRESS ZINDABAD\u001b[39m\u001b[39m\"\u001b[39m,\u001b[39m\"\u001b[39m\u001b[39mJAI CONGRESS\u001b[39m\u001b[39m\"\u001b[39m,\u001b[39m\"\u001b[39m\u001b[39mONLY CONGRESS\u001b[39m\u001b[39m\"\u001b[39m,\u001b[39m\"\u001b[39m\u001b[39mYe sarkar amiro ki sarkar hai ye sbkuch bech degi agr desh ko bacahana hai toh congress ko jitao\u001b[39m\u001b[39m\"\u001b[39m,\u001b[39m\"\u001b[39m\u001b[39mABKI BAAR CONGRESS SARKAR\u001b[39m\u001b[39m\"\u001b[39m,\u001b[39m\"\u001b[39m\u001b[39mKarmcharyio. Ko Aap kaza. Bhejege. Retaired ko. Delhi un ko be Ops Chahiye\u001b[39m\u001b[39m\"\u001b[39m,\u001b[39m\"\u001b[39m\u001b[39mVote for only ops he ab\u001b[39m\u001b[39m\"\u001b[39m,\u001b[39m\"\u001b[39m\u001b[39mVote for ops only zindawad\u001b[39m\u001b[39m\"\u001b[39m,\u001b[39m\"\u001b[39m\u001b[39mOps. OnlyOps. OnlyOps. OnlyOps. Only\u001b[39m\u001b[39m\"\u001b[39m,\u001b[39m\"\u001b[39m\u001b[39mCongress party hee ops degi pheli hee cabinet m ops bhal kregi jai congress Vijay congress\u001b[39m\u001b[39m\"\u001b[39m,\u001b[39m\"\u001b[39m\u001b[39mAbki baar congress sarkarAbki baar congress sarkarAbki baar congress sarkarAbki baar congress sarkar\u001b[39m\u001b[39m\"\u001b[39m,\u001b[39m\"\u001b[39m\u001b[39mJai congressJai congressJai congress\u001b[39m\u001b[39m\"\u001b[39m,\u001b[39m\"\u001b[39m\u001b[39mongress ZindabadCongress Zindabad\u001b[39m\u001b[39m\"\u001b[39m,\u001b[39m\"\u001b[39m\u001b[39mJitega bhai jitega congress jitegaJai congressCongress ZindabadAbki baar congress sarkar\u001b[39m\u001b[39m\"\u001b[39m,\u001b[39m\"\u001b[39m\u001b[39mCongress ZindabadJitega bhai jitega congress jitegaJai congress\u001b[39m\u001b[39m\"\u001b[39m]\n\u001b[0;32m      7\u001b[0m \u001b[39mfor\u001b[39;00m i \u001b[39min\u001b[39;00m \u001b[39mrange\u001b[39m(\u001b[39m15\u001b[39m):\n\u001b[1;32m----> 8\u001b[0m     time\u001b[39m.\u001b[39;49msleep(\u001b[39m25\u001b[39;49m)\n\u001b[0;32m      9\u001b[0m     p\u001b[39m.\u001b[39mwrite(comment[r\u001b[39m.\u001b[39mrandint(\u001b[39m0\u001b[39m,\u001b[39m15\u001b[39m)])   \n\u001b[0;32m     10\u001b[0m     p\u001b[39m.\u001b[39mhotkey(\u001b[39m'\u001b[39m\u001b[39menter\u001b[39m\u001b[39m'\u001b[39m)\n",
      "\u001b[1;31mKeyboardInterrupt\u001b[0m: "
     ]
    }
   ],
   "source": [
    "import pyautogui as p\n",
    "import time\n",
    "import random as r\n",
    "p.hotkey('alt','tab')\n",
    "p.write(' ',5)\n",
    "comment = [\"CONGRESS\",\"CONGRESS ZINDABAD\",\"JAI CONGRESS\",\"ONLY CONGRESS\",\"Ye sarkar amiro ki sarkar hai ye sbkuch bech degi agr desh ko bacahana hai toh congress ko jitao\",\"ABKI BAAR CONGRESS SARKAR\",\"Karmcharyio. Ko Aap kaza. Bhejege. Retaired ko. Delhi un ko be Ops Chahiye\",\"Vote for only ops he ab\",\"Vote for ops only zindawad\",\"Ops. OnlyOps. OnlyOps. OnlyOps. Only\",\"Congress party hee ops degi pheli hee cabinet m ops bhal kregi jai congress Vijay congress\",\"Abki baar congress sarkarAbki baar congress sarkarAbki baar congress sarkarAbki baar congress sarkar\",\"Jai congressJai congressJai congress\",\"ongress ZindabadCongress Zindabad\",\"Jitega bhai jitega congress jitegaJai congressCongress ZindabadAbki baar congress sarkar\",\"Congress ZindabadJitega bhai jitega congress jitegaJai congress\"]\n",
    "for i in range(15):\n",
    "    time.sleep(25)\n",
    "    p.write(comment[r.randint(0,15)])   \n",
    "    p.hotkey('enter')"
   ]
  }
 ],
 "metadata": {
  "kernelspec": {
   "display_name": "Python 3.9.13 64-bit",
   "language": "python",
   "name": "python3"
  },
  "language_info": {
   "codemirror_mode": {
    "name": "ipython",
    "version": 3
   },
   "file_extension": ".py",
   "mimetype": "text/x-python",
   "name": "python",
   "nbconvert_exporter": "python",
   "pygments_lexer": "ipython3",
   "version": "3.9.13"
  },
  "orig_nbformat": 4,
  "vscode": {
   "interpreter": {
    "hash": "8c37bad4287cefdbc372156e4eb4338457f6f1def6da16ba53da703824a0a7eb"
   }
  }
 },
 "nbformat": 4,
 "nbformat_minor": 2
}
